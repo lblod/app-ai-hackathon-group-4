{
 "cells": [
  {
   "cell_type": "code",
   "execution_count": 9,
   "metadata": {},
   "outputs": [
    {
     "name": "stdout",
     "output_type": "stream",
     "text": [
      "{'models': []}\n"
     ]
    }
   ],
   "source": [
    "import requests\n",
    "\n",
    "endpoint = \"http://localhost:11434\"\n",
    "endpoint = \"http://hackathon-ai-4.s.redhost.be:11435\"\n",
    "\n",
    "def fetch_tags():\n",
    "    url = endpoint+\"/api/tags\"\n",
    "    try:\n",
    "        response = requests.get(url)\n",
    "        response.raise_for_status()  # Raise an exception for HTTP errors\n",
    "        tags = response.json()\n",
    "        print(tags)\n",
    "    except requests.exceptions.RequestException as e:\n",
    "        print(f\"An error occurred: {e}\")\n",
    "\n",
    "# Call the function to fetch and print tags\n",
    "fetch_tags()"
   ]
  },
  {
   "cell_type": "code",
   "execution_count": 11,
   "metadata": {},
   "outputs": [
    {
     "name": "stdout",
     "output_type": "stream",
     "text": [
      "Pulling data from http://hackathon-ai-4.s.redhost.be:11435/api/pull with payload: {'name': 'llama3.1:8b-instruct-q4_0'}\n",
      "Error parsing JSON response: Extra data: line 2 column 1 (char 30)\n",
      "Raw response text: {\"status\":\"pulling manifest\"}\n",
      "{\"error\":\"pull model manifest: 412: \\n\\nThe model you are attempting to pull requires a newer version of Ollama.\\n\\nPlease download the latest version at:\\n\\n\\thttps://ollama.com/download\\n\\n\"}\n",
      "\n"
     ]
    }
   ],
   "source": [
    "import requests\n",
    "\n",
    "def pull_data():\n",
    "    url = endpoint+\"/api/pull\"\n",
    "    payload = {\n",
    "        \"name\": \"llama3.1:8b-instruct-q4_0\"\n",
    "    }\n",
    "    headers = {\n",
    "        \"Content-Type\": \"application/json\"\n",
    "    }\n",
    "    print(f\"Pulling data from {url} with payload: {payload}\")\n",
    "\n",
    "    try:\n",
    "        response = requests.post(url, json=payload, headers=headers)\n",
    "        response.raise_for_status()  # Raise an exception for HTTP errors\n",
    "        try:\n",
    "            data = response.json()\n",
    "            print(data)\n",
    "        except ValueError as e:\n",
    "            print(f\"Error parsing JSON response: {e}\")\n",
    "            print(\"Raw response text:\", response.text)\n",
    "    except requests.exceptions.RequestException as e:\n",
    "        print(f\"An error occurred: {e}\")\n",
    "\n",
    "# Call the function to perform the POST request and print the response\n",
    "pull_data()"
   ]
  },
  {
   "cell_type": "code",
   "execution_count": null,
   "metadata": {},
   "outputs": [],
   "source": []
  }
 ],
 "metadata": {
  "kernelspec": {
   "display_name": "abbNLP",
   "language": "python",
   "name": "python3"
  },
  "language_info": {
   "codemirror_mode": {
    "name": "ipython",
    "version": 3
   },
   "file_extension": ".py",
   "mimetype": "text/x-python",
   "name": "python",
   "nbconvert_exporter": "python",
   "pygments_lexer": "ipython3",
   "version": "3.10.13"
  }
 },
 "nbformat": 4,
 "nbformat_minor": 2
}
